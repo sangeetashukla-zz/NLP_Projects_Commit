{
 "cells": [
  {
   "cell_type": "code",
   "execution_count": 1,
   "metadata": {},
   "outputs": [
    {
     "name": "stdout",
     "output_type": "stream",
     "text": [
      "Hello world!\n"
     ]
    }
   ],
   "source": [
    "print(\"Hello world!\")"
   ]
  },
  {
   "cell_type": "code",
   "execution_count": 14,
   "metadata": {},
   "outputs": [
    {
     "name": "stdout",
     "output_type": "stream",
     "text": [
      "Hieroglyphic writing dates from c. 3000 BC, and is composed of hundreds of symbols. A hieroglyph can represent a word, a sound, or a silent determinative; and the same symbol can serve different purposes in different contexts. Hieroglyphs were a formal script, used on stone monuments and in tombs, that could be as detailed as individual works of art.\n",
      "\n"
     ]
    }
   ],
   "source": [
    "import os\n",
    "\n",
    "# Read in a plain text file\n",
    "with open(os.path.join(\"data\", \"hieroglyph.txt\"), \"r\") as f:\n",
    "    text = f.read()\n",
    "    print(text)"
   ]
  },
  {
   "cell_type": "code",
   "execution_count": 11,
   "metadata": {},
   "outputs": [
    {
     "name": "stdout",
     "output_type": "stream",
     "text": [
      "['C:\\\\Users\\\\sangeeta.shukla\\\\Documents\\\\Git_Commit_NLP\\\\NLP_Projects_Commit', 'C:\\\\Users\\\\sangeeta.shukla\\\\AppData\\\\Local\\\\Continuum\\\\anaconda3\\\\python37.zip', 'C:\\\\Users\\\\sangeeta.shukla\\\\AppData\\\\Local\\\\Continuum\\\\anaconda3\\\\DLLs', 'C:\\\\Users\\\\sangeeta.shukla\\\\AppData\\\\Local\\\\Continuum\\\\anaconda3\\\\lib', 'C:\\\\Users\\\\sangeeta.shukla\\\\AppData\\\\Local\\\\Continuum\\\\anaconda3', '', 'C:\\\\Users\\\\sangeeta.shukla\\\\AppData\\\\Local\\\\Continuum\\\\anaconda3\\\\lib\\\\site-packages', 'C:\\\\Users\\\\sangeeta.shukla\\\\AppData\\\\Local\\\\Continuum\\\\anaconda3\\\\lib\\\\site-packages\\\\win32', 'C:\\\\Users\\\\sangeeta.shukla\\\\AppData\\\\Local\\\\Continuum\\\\anaconda3\\\\lib\\\\site-packages\\\\win32\\\\lib', 'C:\\\\Users\\\\sangeeta.shukla\\\\AppData\\\\Local\\\\Continuum\\\\anaconda3\\\\lib\\\\site-packages\\\\Pythonwin', 'C:\\\\Users\\\\sangeeta.shukla\\\\AppData\\\\Local\\\\Continuum\\\\anaconda3\\\\lib\\\\site-packages\\\\IPython\\\\extensions', 'C:\\\\Users\\\\sangeeta.shukla\\\\.ipython', 'C:\\\\Users\\\\sangeeta.shukla\\\\Documents\\\\Udacity_NLP']\n"
     ]
    }
   ],
   "source": [
    "import sys\n",
    "\n",
    "print(sys.path)"
   ]
  },
  {
   "cell_type": "code",
   "execution_count": 8,
   "metadata": {},
   "outputs": [],
   "source": [
    "import os\n",
    "os.environ['PATH'] += os.pathsep + r'C:\\\\Users\\\\sangeeta.shukla\\\\Documents\\\\Udacity_NLP'"
   ]
  },
  {
   "cell_type": "code",
   "execution_count": 12,
   "metadata": {},
   "outputs": [
    {
     "name": "stdout",
     "output_type": "stream",
     "text": [
      "data\\hieroglyph.txt\n"
     ]
    }
   ],
   "source": [
    "print(os.path.join(\"data\", \"hieroglyph.txt\"))"
   ]
  },
  {
   "cell_type": "code",
   "execution_count": null,
   "metadata": {},
   "outputs": [],
   "source": []
  }
 ],
 "metadata": {
  "kernelspec": {
   "display_name": "Python 3",
   "language": "python",
   "name": "python3"
  },
  "language_info": {
   "codemirror_mode": {
    "name": "ipython",
    "version": 3
   },
   "file_extension": ".py",
   "mimetype": "text/x-python",
   "name": "python",
   "nbconvert_exporter": "python",
   "pygments_lexer": "ipython3",
   "version": "3.7.1"
  }
 },
 "nbformat": 4,
 "nbformat_minor": 2
}
